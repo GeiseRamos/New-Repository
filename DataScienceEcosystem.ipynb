{
 "cells": [
  {
   "cell_type": "markdown",
   "id": "27d70fb1-2d6f-4bae-aac9-e76cb0bf8e16",
   "metadata": {},
   "source": [
    "# Data Science Tools and Ecosystem\n"
   ]
  },
  {
   "cell_type": "markdown",
   "id": "cea2eb34-6c3d-4847-88c6-01cc8a83c315",
   "metadata": {},
   "source": [
    "In this notebook, Data Science Tools and Ecosystem are summarized."
   ]
  },
  {
   "cell_type": "markdown",
   "id": "56dd7dc8-f35c-4df2-8ff9-6bf39a0c5c4c",
   "metadata": {},
   "source": [
    "**Objectives**\n",
    "- List popular languages for Data Science\n",
    "- Understand the basics of Jupyter Notebooks\n",
    "- Explore the fundamentals of data analysis and visualization\n",
    "- Learn about data science tools and workflows\n",
    "- Summarize the key takeaways from this notebook\n"
   ]
  },
  {
   "cell_type": "markdown",
   "id": "a7bcc770-afff-4ad1-8332-1dd658ecc852",
   "metadata": {},
   "source": [
    "Some of the popular languages that Data Scientists use are:\n",
    "\n",
    "1. Python  \n",
    "2. R  \n",
    "3. SQL  \n",
    "4. Julia  \n",
    "5. Scala\n"
   ]
  },
  {
   "cell_type": "markdown",
   "id": "73635c97-5812-481f-a56b-43abb964d865",
   "metadata": {},
   "source": [
    "Some of the commonly used libraries used by Data Scientists include:\n",
    "\n",
    "1. NumPy  \n",
    "2. Pandas  \n",
    "3. Scikit-learn  \n",
    "4. TensorFlow  \n",
    "5. Matplotlib\n"
   ]
  },
  {
   "cell_type": "markdown",
   "id": "e4996302-4c4e-4a3b-abae-cc77733e2496",
   "metadata": {},
   "source": [
    "| Data Science Tools |\n",
    "|---------------------|\n",
    "| Jupyter Notebook    |\n",
    "| RStudio             |\n",
    "| Apache Zeppelin     |\n"
   ]
  },
  {
   "cell_type": "markdown",
   "id": "310d1965-d3f1-4e31-a396-9b8c1a87684f",
   "metadata": {},
   "source": [
    "### Below are a few examples of evaluating arithmetic expressions in Python.\n"
   ]
  },
  {
   "cell_type": "markdown",
   "id": "7a8cccb8-0e0e-43e2-9277-da104d6275b3",
   "metadata": {},
   "source": [
    "1. Adding two numbers: `3 + 5` results in `8`.\n",
    "2. Multiplying two numbers: `4 * 7` results in `28`.\n",
    "3. Dividing two numbers: `10 / 2` results in `5.0`.\n"
   ]
  },
  {
   "cell_type": "code",
   "execution_count": 8,
   "id": "5d608a16-57ca-42d6-99f3-eb9289933d49",
   "metadata": {},
   "outputs": [
    {
     "data": {
      "text/plain": [
       "529"
      ]
     },
     "execution_count": 8,
     "metadata": {},
     "output_type": "execute_result"
    }
   ],
   "source": [
    "# Esta é uma expressão aritmética simples para adicionar e multiplicar números inteiros.\n",
    "(3 * 4) + 517\n"
   ]
  },
  {
   "cell_type": "code",
   "execution_count": 9,
   "id": "e5ea6a3d-1c79-484d-8bff-ed612adf8630",
   "metadata": {},
   "outputs": [
    {
     "data": {
      "text/plain": [
       "3.3333333333333335"
      ]
     },
     "execution_count": 9,
     "metadata": {},
     "output_type": "execute_result"
    }
   ],
   "source": [
    "# Isso converterá 200 minutos em horas dividindo por 60.\n",
    "200 / 60\n"
   ]
  },
  {
   "cell_type": "markdown",
   "id": "2320ab5f-1c49-4293-873e-7745881cd4ca",
   "metadata": {},
   "source": [
    "## Author\n",
    "Geise Ramos\n"
   ]
  },
  {
   "cell_type": "code",
   "execution_count": null,
   "id": "bc11523f-88cc-462a-8157-e626de460813",
   "metadata": {},
   "outputs": [],
   "source": []
  }
 ],
 "metadata": {
  "kernelspec": {
   "display_name": "Python 3 (ipykernel)",
   "language": "python",
   "name": "python3"
  },
  "language_info": {
   "codemirror_mode": {
    "name": "ipython",
    "version": 3
   },
   "file_extension": ".py",
   "mimetype": "text/x-python",
   "name": "python",
   "nbconvert_exporter": "python",
   "pygments_lexer": "ipython3",
   "version": "3.11.9"
  }
 },
 "nbformat": 4,
 "nbformat_minor": 5
}
